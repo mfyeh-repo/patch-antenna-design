{
  "cells": [
    {
      "cell_type": "markdown",
      "metadata": {},
      "source": [
        "# \ud83d\udce1 2.45GHz Patch Antenna \u8a2d\u8a08\u5de5\u5177 (Gradio \u7248)\n",
        "\u6b64 Colab \u7b46\u8a18\u672c\u4f7f\u7528 Gradio \u5efa\u7acb\u4e92\u52d5\u5f0f GUI\uff0c\u4f7f\u7528\u8005\u53ef\u76f4\u63a5\u8f38\u5165\u53c3\u6578\u4e26\u89c0\u5bdf\u5929\u7dda\u7d50\u69cb\u5716\u8207\u8a2d\u8a08\u53c3\u6578\u3002"
      ]
    },
    {
      "cell_type": "code",
      "execution_count": null,
      "metadata": {},
      "outputs": [],
      "source": [
        "# \u2705 \u5b89\u88dd\u5fc5\u8981\u5957\u4ef6\n",
        "!pip install gradio matplotlib"
      ]
    },
    {
      "cell_type": "code",
      "execution_count": null,
      "metadata": {},
      "outputs": [],
      "source": [
        "# \u25b6\ufe0f \u57f7\u884c Gradio App\n",
        "import gradio as gr\n",
        "import numpy as np\n",
        "import matplotlib.pyplot as plt\n",
        "\n",
        "def patch_design(f_r, er, h, t):\n",
        "    c = 3e8\n",
        "    f_r_hz = f_r * 1e9\n",
        "    h_m = h / 1000\n",
        "    t_m = t / 1000\n",
        "\n",
        "    W = c / (2 * f_r_hz * np.sqrt((er + 1) / 2))\n",
        "    er_eff = (er + 1)/2 + (er - 1)/2 * (1 / np.sqrt(1 + 12 * h_m / W))\n",
        "    delta_L = h_m * 0.412 * ((er_eff + 0.3)*(W/h_m + 0.264)) / ((er_eff - 0.258)*(W/h_m + 0.8))\n",
        "    L_eff = c / (2 * f_r_hz * np.sqrt(er_eff))\n",
        "    L = L_eff - 2 * delta_L\n",
        "\n",
        "    Q = (1 / (np.sqrt(er_eff) - 1)) * (L / h_m) * (1 + (1 / (W / h_m)))\n",
        "    BW_frac = 1.5 / Q\n",
        "    BW = BW_frac * f_r_hz / 1e6\n",
        "\n",
        "    fig, ax = plt.subplots()\n",
        "    ax.add_patch(plt.Rectangle((0, 0), W*1000, L*1000, edgecolor='black', facecolor='lightblue'))\n",
        "    ax.text(W*500, L*500, 'Patch', ha='center', va='center')\n",
        "    ax.set_xlim(-5, W*1000 + 5)\n",
        "    ax.set_ylim(-5, L*1000 + 5)\n",
        "    ax.set_aspect('equal')\n",
        "    ax.set_title('Patch Antenna \u7d50\u69cb\u5716')\n",
        "    plt.xlabel('\u5bec\u5ea6 W (mm)')\n",
        "    plt.ylabel('\u9577\u5ea6 L (mm)')\n",
        "    plt.grid(True)\n",
        "\n",
        "    return (\n",
        "        f\"{W*1000:.2f} mm\",\n",
        "        f\"{er_eff:.4f}\",\n",
        "        f\"{L_eff*1000:.2f} mm\",\n",
        "        f\"{L*1000:.2f} mm\",\n",
        "        f\"{BW:.2f} MHz\",\n",
        "        fig\n",
        "    )\n",
        "\n",
        "iface = gr.Interface(\n",
        "    fn=patch_design,\n",
        "    inputs=[\n",
        "        gr.Number(label=\"\u4e2d\u5fc3\u983b\u7387 f_r (GHz)\", value=2.45),\n",
        "        gr.Number(label=\"\u4ecb\u96fb\u5e38\u6578 \u03b5_r\", value=4.4),\n",
        "        gr.Number(label=\"\u57fa\u677f\u539a\u5ea6 h (mm)\", value=1.6),\n",
        "        gr.Number(label=\"\u9285\u7b94\u539a\u5ea6 t (mm)\", value=0.034)\n",
        "    ],\n",
        "    outputs=[\n",
        "        gr.Textbox(label=\"\u8cbc\u7247\u5bec\u5ea6 W\"),\n",
        "        gr.Textbox(label=\"\u6709\u6548\u4ecb\u96fb\u5e38\u6578 \u03b5_eff\"),\n",
        "        gr.Textbox(label=\"\u8cbc\u7247\u6709\u6548\u9577\u5ea6 L_eff\"),\n",
        "        gr.Textbox(label=\"\u8cbc\u7247\u5be6\u969b\u9577\u5ea6 L\"),\n",
        "        gr.Textbox(label=\"\u983b\u5bec\u4f30\u7b97 BW\"),\n",
        "        gr.Plot(label=\"Patch \u5929\u7dda\u5716\")\n",
        "    ],\n",
        "    title=\"\ud83d\udce1 Patch Antenna \u8a2d\u8a08\u5de5\u5177\",\n",
        "    description=\"\u8f38\u5165\u53c3\u6578\u5f8c\uff0c\u81ea\u52d5\u4f30\u7b97\u8cbc\u7247\u5c3a\u5bf8\u8207\u983b\u5bec\uff0c\u4e26\u986f\u793a\u5929\u7dda\u7d50\u69cb\u5716\"\n",
        ")\n",
        "\n",
        "iface.launch(share=True)"
      ]
    }
  ],
  "metadata": {
    "kernelspec": {
      "display_name": "Python 3",
      "language": "python",
      "name": "python3"
    },
    "language_info": {
      "name": "python",
      "version": ""
    }
  },
  "nbformat": 4,
  "nbformat_minor": 5
}