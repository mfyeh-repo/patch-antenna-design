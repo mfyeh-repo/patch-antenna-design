{
  "cells": [
    {
      "cell_type": "markdown",
      "metadata": {},
      "source": [
        "# \ud83d\udce1 2.45 GHz Patch Antenna \u8a2d\u8a08\u5de5\u5177\n",
        "\u6b64\u5de5\u5177\u53ef\u6839\u64da\u8f38\u5165\u7684\u5929\u7dda\u53c3\u6578\u8a08\u7b97 Patch \u5929\u7dda\u7684\u95dc\u9375\u5c3a\u5bf8\u8207\u6548\u80fd\u4f30\u7b97\uff0c\u4e26\u7e6a\u88fd\u7d50\u69cb\u5716\u3002"
      ]
    },
    {
      "cell_type": "code",
      "execution_count": null,
      "metadata": {},
      "outputs": [],
      "source": [
        "# \ud83d\udce6 \u5b89\u88dd\u5fc5\u8981\u5957\u4ef6\n",
        "!pip install ipywidgets"
      ]
    },
    {
      "cell_type": "code",
      "execution_count": null,
      "metadata": {},
      "outputs": [],
      "source": [
        "# \ud83d\udccc \u532f\u5165\u6a21\u7d44\n",
        "import ipywidgets as widgets\n",
        "from IPython.display import display\n",
        "import matplotlib.pyplot as plt\n",
        "import numpy as np"
      ]
    },
    {
      "cell_type": "code",
      "execution_count": null,
      "metadata": {},
      "outputs": [],
      "source": [
        "# \ud83d\udd27 \u8a2d\u5b9a\u8f38\u5165\u53c3\u6578 GUI\n",
        "f_r_input = widgets.FloatText(value=2.45, description='\u983b\u7387(GHz):')\n",
        "er_input = widgets.FloatText(value=4.4, description='\u03b5r:')\n",
        "h_input = widgets.FloatText(value=1.6, description='\u539a\u5ea6 h(mm):')\n",
        "t_input = widgets.FloatText(value=0.034, description='\u9285\u7b94 t(mm):')\n",
        "\n",
        "ui = widgets.VBox([f_r_input, er_input, h_input, t_input])\n",
        "display(ui)"
      ]
    },
    {
      "cell_type": "code",
      "execution_count": null,
      "metadata": {},
      "outputs": [],
      "source": [
        "# \ud83e\uddee Patch \u5929\u7dda\u8a08\u7b97\u908f\u8f2f\n",
        "def patch_design(f_r, er, h, t):\n",
        "    c = 3e8\n",
        "    f_r = f_r * 1e9\n",
        "    h = h / 1000\n",
        "    t = t / 1000\n",
        "\n",
        "    W = c / (2 * f_r * np.sqrt((er + 1) / 2))\n",
        "    er_eff = (er + 1) / 2 + (er - 1) / 2 * (1 / np.sqrt(1 + 12 * h / W))\n",
        "\n",
        "    delta_L = h * 0.412 * ((er_eff + 0.3) * (W / h + 0.264)) / ((er_eff - 0.258) * (W / h + 0.8))\n",
        "    L_eff = c / (2 * f_r * np.sqrt(er_eff))\n",
        "    L = L_eff - 2 * delta_L\n",
        "\n",
        "    Q = (1 / (np.sqrt(er_eff) - 1)) * (L / h) * (1 + (1 / (W / h)))\n",
        "    BW_frac = 1.5 / Q\n",
        "    BW = BW_frac * f_r / 1e6\n",
        "\n",
        "    return W * 1000, er_eff, L_eff * 1000, L * 1000, BW"
      ]
    },
    {
      "cell_type": "code",
      "execution_count": null,
      "metadata": {},
      "outputs": [],
      "source": [
        "# \ud83d\udcd0 \u756b\u51fa Patch \u7d50\u69cb\u5716\n",
        "def draw_patch(W, L):\n",
        "    fig, ax = plt.subplots()\n",
        "    ax.add_patch(plt.Rectangle((0, 0), W, L, edgecolor='black', facecolor='lightblue'))\n",
        "    ax.text(W/2, L/2, 'Patch', ha='center', va='center')\n",
        "    ax.set_xlim(-5, W + 5)\n",
        "    ax.set_ylim(-5, L + 5)\n",
        "    ax.set_aspect('equal')\n",
        "    ax.set_title('Patch Antenna \u7d50\u69cb\u5716')\n",
        "    plt.xlabel('\u5bec\u5ea6 W (mm)')\n",
        "    plt.ylabel('\u9577\u5ea6 L (mm)')\n",
        "    plt.grid(True)\n",
        "    plt.show()"
      ]
    },
    {
      "cell_type": "code",
      "execution_count": null,
      "metadata": {},
      "outputs": [],
      "source": [
        "# \u25b6\ufe0f \u6309\u9215\u8a08\u7b97\u8207\u986f\u793a\u7d50\u679c\n",
        "output = widgets.Output()\n",
        "\n",
        "def on_calculate_clicked(b):\n",
        "    with output:\n",
        "        output.clear_output()\n",
        "        W, er_eff, L_eff, L, BW = patch_design(f_r_input.value, er_input.value, h_input.value, t_input.value)\n",
        "        print(f'\u8cbc\u7247\u5bec\u5ea6 W = {W:.2f} mm')\n",
        "        print(f'\u6709\u6548\u4ecb\u96fb\u5e38\u6578 \u03b5_eff = {er_eff:.4f}')\n",
        "        print(f'\u8cbc\u7247\u6709\u6548\u9577\u5ea6 L_eff = {L_eff:.2f} mm')\n",
        "        print(f'\u8cbc\u7247\u5be6\u969b\u9577\u5ea6 L = {L:.2f} mm')\n",
        "        print(f'\u983b\u5bec\u4f30\u7b97 BW \u2248 {BW:.2f} MHz')\n",
        "        draw_patch(W, L)\n",
        "\n",
        "button = widgets.Button(description='\u958b\u59cb\u8a08\u7b97')\n",
        "button.on_click(on_calculate_clicked)\n",
        "\n",
        "display(button, output)"
      ]
    }
  ],
  "metadata": {
    "kernelspec": {
      "display_name": "Python 3",
      "language": "python",
      "name": "python3"
    },
    "language_info": {
      "name": "python",
      "version": ""
    }
  },
  "nbformat": 4,
  "nbformat_minor": 5
}